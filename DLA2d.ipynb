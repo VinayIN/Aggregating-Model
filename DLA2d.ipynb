{
 "cells": [
  {
   "cell_type": "code",
   "execution_count": 1,
   "id": "b8f61bba-0590-4051-a7b4-e10cb4a35298",
   "metadata": {},
   "outputs": [],
   "source": [
    "import numpy as np\n",
    "import pandas as pd\n",
    "import matplotlib.pyplot as plt\n",
    "from tqdm import tqdm\n",
    "import copy"
   ]
  },
  {
   "cell_type": "code",
   "execution_count": 2,
   "id": "68c35209-774a-4865-a771-66e2efc86e70",
   "metadata": {},
   "outputs": [],
   "source": [
    "%matplotlib inline"
   ]
  },
  {
   "cell_type": "markdown",
   "id": "b93fa5c4-9ac6-40d3-8713-71578cc98b36",
   "metadata": {},
   "source": [
    "### Create DLA algorithm for 2D Matrix\n",
    "- Here point aggregator is simulated\n",
    "- additional funtion `DLA2D.trace_point()` is provided to trace the attachment of each point to graph\n",
    "**pseudocode**\n",
    "\n",
    "```\n",
    "dla{\n",
    "    initialize the matrix with needed parameter\n",
    "    mark the start point\n",
    "    generate a random point\n",
    "    while (point not attached to adjacent)\n",
    "        random walk around adjacent\n",
    "    }\n",
    "```"
   ]
  },
  {
   "cell_type": "markdown",
   "id": "162ba7c8-8892-4475-9c2f-e7c1f1d2d5c5",
   "metadata": {},
   "source": [
    "**Write-up**\n",
    "- This is the simulation of DLA for **point aggregator**. We start by defining some the parameters like `matrix_size`, `stickiness` and `point_to_generate`. As defined in `DLA2d.__init__()`\n",
    "- After defining our matrix, we initialize all pixels with `0` and mark the center with a pixel value of `255`. As defined in `DLA2d.initialize_matrix()`\n",
    "- The next step is iterative and all these steps are preformed inside the method `DLA2d.generate_dla()`. This iteration stops after all the `points_to_generated` are exhausted. But before we also create an matrix `visit_matrix`. This makes sure that walk is only performed on the positions where the specific point has never walked and thus put to check on infinite walk.\n",
    "    * Generate a random position in the matrix using method `DLA2d.get_random_pos()` with a conditional check that already pixelated value of 255 is not selected.\n",
    "    * Once we have a position, mark the location in `visit_matrix` and check if its attaching with any adjacent points using method `DLA2d.check_attachment()`.\n",
    "        * If the current position's adjacent doesn't has a pixel value of 255 then do a random walk using `DLA2d.start_random_walk()` along the adjacent point generated using `DLA2d.get_adjacent_points()`\n",
    "        * keep doing the above statement till there is an attachment with adjacent checked with method `DLA2d.check_attachement()`. Keeping a condition check that during each random walk it should choose an adjacent point which has not been visited yet.\n",
    "    * All the paths taken by the point after a random point is generated at start is kept inside the member `DLA2d.path` \n",
    "        \n",
    "**extra**\n",
    "- An additional method `DLA2d.trace_point()` has been created to see the trace of path taken by a point throughout its journey."
   ]
  },
  {
   "cell_type": "code",
   "execution_count": 3,
   "id": "a85cfe76-0b43-441a-a287-bb8143789ad6",
   "metadata": {},
   "outputs": [],
   "source": [
    "class DLA2d:\n",
    "    def __init__(self, matrix_size: int, stickiness: float, points_to_generate: int):\n",
    "        \"\"\"Declaration of matrix for DLA\n",
    "\n",
    "        Parameters\n",
    "        ----------\n",
    "        matrix_size : int\n",
    "        size of the matrix\n",
    "        stickiness : float\n",
    "        attaching probabilty of points to each other\n",
    "        points_to_generate : int\n",
    "        total points to attach to each other\n",
    "        \"\"\"\n",
    "        self.matrix_size = matrix_size\n",
    "        self.stickiness = stickiness\n",
    "        self.points_to_generate = points_to_generate\n",
    "    \n",
    "    def initialize_matrix(self):\n",
    "        \"\"\"Initialize the matrix with empty pixel value except the center\n",
    "        \"\"\"\n",
    "        matrix = np.zeros((self.matrix_size, self.matrix_size), dtype=np.int32)\n",
    "        # point aggregator\n",
    "        matrix[self.matrix_size//2, self.matrix_size//2] = 255\n",
    "        return matrix\n",
    "    \n",
    "    def get_adjacent_points(self, pos: tuple, padding: bool=True) -> list:\n",
    "        \"\"\"Generate the adjacent points from a position\n",
    "\n",
    "        ```\n",
    "            example:\n",
    "                0 X X X 0\n",
    "                0 X - X 0\n",
    "                0 X X X 0\n",
    "        ```\n",
    "\n",
    "        Parameters\n",
    "        ----------\n",
    "        pos : tuple\n",
    "        x,y coordinate of the current position \n",
    "        padding : bool, optional\n",
    "            If the position of point is at edges then look at other edge.\n",
    "            ex: if point leaves leave left, it should enter from right and if it leaves from top,\n",
    "            it must enter from bottom. (Vice versa), by default True\n",
    "\n",
    "        Returns\n",
    "        -------\n",
    "        list\n",
    "            adjacent coordinates\n",
    "        \"\"\"\n",
    "        x, y = pos\n",
    "        adjacent_pos = [\n",
    "            (x - 1, y - 1),\n",
    "            (x - 1 if x-1 > -1 else self.matrix_size-1, y) if padding else (x - 1, y), #up\n",
    "            (x - 1, y + 1),\n",
    "            (x, y - 1 if y-1 > -1 else self.matrix_size-1) if padding else (x, y - 1), # left\n",
    "            (x, y + 1 if y+1 < self.matrix_size else 0) if padding else (x, y + 1), # right\n",
    "            (x + 1, y - 1),\n",
    "            (x + 1 if x+1 < self.matrix_size else 0, y) if padding else (x +1, y), # down\n",
    "            (x + 1, y + 1)]\n",
    "        adjacent_pos = filter(\n",
    "            lambda x: (x[0] > -1 and x[0] < self.matrix_size) and (x[1] > -1 and x[1] < self.matrix_size),\n",
    "            adjacent_pos)\n",
    "        return list(adjacent_pos)\n",
    "    \n",
    "    def get_random_pos(self, matrix: np.ndarray) -> tuple:\n",
    "        \"\"\"Generate a random position within array\n",
    "\n",
    "        Parameters\n",
    "        ----------\n",
    "        matrix : np.ndarray\n",
    "            matrix from where a position will be selected\n",
    "\n",
    "        Returns\n",
    "        -------\n",
    "        tuple\n",
    "            position(x,y), probability of selecting the position.\n",
    "        \"\"\"\n",
    "        new_pos = (self.matrix_size//2, self.matrix_size//2)\n",
    "        while matrix[new_pos]==255:\n",
    "            new_pos = tuple(np.random.randint(0, self.matrix_size, size=2))\n",
    "        return new_pos, 1\n",
    "    \n",
    "    def start_random_walk(self, pos: tuple) -> tuple:\n",
    "        \"\"\"Do a random walk along the current position\n",
    "\n",
    "        Parameters\n",
    "        ----------\n",
    "        pos : tuple\n",
    "            The current position along which a random walk will be done to\n",
    "            its adjacent's point\n",
    "\n",
    "        Returns\n",
    "        -------\n",
    "        tuple\n",
    "            new position, probabilty of selecting the point\n",
    "        \"\"\"\n",
    "        # S(t) = S(t-1) + w(t)\n",
    "        # w(t) is chosen from adjacent points with a probablistic inference from the distribution\n",
    "        # TODO: Optimize the walk\n",
    "        adj_pos = self.get_adjacent_points(pos)\n",
    "        idx = np.random.randint(len(adj_pos))\n",
    "        prob = 1/len(adj_pos)\n",
    "        return adj_pos[idx], prob\n",
    "    \n",
    "    def check_attachment(self, pos: tuple, prob: float, matrix: np.ndarray) -> bool:\n",
    "        \"\"\"Checking if the position is attaching to its adjacent.\n",
    "\n",
    "        Parameters\n",
    "        ----------\n",
    "        pos : tuple\n",
    "            current position\n",
    "        prob : float\n",
    "            probability of the selected position\n",
    "        matrix : np.ndarray\n",
    "            matrix containing points\n",
    "\n",
    "        Returns\n",
    "        -------\n",
    "        bool\n",
    "            True, if its attaching to adjacent.\n",
    "\n",
    "        .. note::\n",
    "            Here adjacent points from the current position are looked with the padding. Ie. Adjacent\n",
    "            points are not looked beyond the edge.\n",
    "        \"\"\"\n",
    "        adjacent = self.get_adjacent_points(pos, padding=False)\n",
    "        return any(filter(lambda x: matrix[x]==255, adjacent)) and prob < self.stickiness\n",
    "    \n",
    "    def generate_dla(self, matrix: np.ndarray) -> np.array:\n",
    "        \"\"\"Runner method for simulation of DLA\n",
    "\n",
    "        Parameters\n",
    "        ----------\n",
    "        matrix : np.ndarray\n",
    "            Initialized matrix with only 1 point as starter\n",
    "\n",
    "        Returns\n",
    "        -------\n",
    "        np.array\n",
    "            Plotted matrix with all the points attached to each other\n",
    "        \"\"\"\n",
    "        self.path = []\n",
    "        for point in tqdm(range(self.points_to_generate)):\n",
    "            point_path = []\n",
    "            visit_matrix = np.zeros((self.matrix_size, self.matrix_size), dtype=np.int32)\n",
    "            new_pos, prob = self.get_random_pos(matrix)\n",
    "            visit_matrix[new_pos] = 1\n",
    "            point_path.append(new_pos)\n",
    "            while not self.check_attachment(new_pos, prob, matrix):\n",
    "                while visit_matrix[new_pos]==1:\n",
    "                    new_pos, prob = self.start_random_walk(new_pos)\n",
    "                point_path.append(new_pos)\n",
    "                visit_matrix[new_pos] = 1\n",
    "            matrix[new_pos] = 255\n",
    "            self.path.append(point_path)\n",
    "        del visit_matrix\n",
    "        return matrix\n",
    "    \n",
    "    def trace_point(self, point: int) -> int:\n",
    "        \"\"\"This is an additional method to trace the path of point in its journey\n",
    "        before attaching to a point\n",
    "\n",
    "        Parameters\n",
    "        ----------\n",
    "        point : int\n",
    "            point whose path needs to be traced upon.\n",
    "\n",
    "        Returns\n",
    "        -------\n",
    "        int\n",
    "            if 0, issue in generating plot else 1\n",
    "        \"\"\"\n",
    "        data = np.empty((self.matrix_size, self.matrix_size), dtype=np.int32)\n",
    "        data.fill(255)\n",
    "        data[self.matrix_size//2, self.matrix_size//2] = np.random.randint(255)\n",
    "        if point < len(self.path) and point > 0:\n",
    "            for i in range(point):\n",
    "                data[self.path[i][-1]] = np.random.randint(255)\n",
    "            fig = plt.figure(figsize=(30, 30))\n",
    "            ax = plt.axes(xlim=(0, self.matrix_size), ylim=(0, self.matrix_size))\n",
    "\n",
    "            #plot the attached point/pixels till the recent point\n",
    "            ax.imshow(data.transpose(), interpolation='nearest', cmap='gray')\n",
    "\n",
    "            #mark the trace\n",
    "            trace = self.path[point-1]\n",
    "            x, y = trace[0]\n",
    "            x_, y_ = trace[-1]\n",
    "\n",
    "            #start marker\n",
    "            ax.scatter(x, y, marker='*', s=20*2*6, c='#17202A')\n",
    "\n",
    "            #end marker\n",
    "            ax.scatter(x_, y_, marker='*', s=20*4*6, c='#f20c27')\n",
    "\n",
    "            #trace curve\n",
    "            X, Y = zip(*trace)\n",
    "            line, = ax.plot(X, Y, lw=2, color='#0492C2')\n",
    "            ax.set_xticks(np.arange(0, self.matrix_size, 20))\n",
    "            ax.set_yticks(np.arange(0, self.matrix_size, 20))\n",
    "            ax.set_title('Random walk (Point Aggregator)', fontsize=22)\n",
    "            ax.set_xlabel('X-coordinate', fontsize=18)\n",
    "            ax.set_ylabel('Y-coordinate', fontsize=18)\n",
    "            ax.tick_params(labelsize=16)\n",
    "            return 1\n",
    "        else:\n",
    "            print(\"Point number exceeds/underweighs points present in the matrix.\")\n",
    "            return 0"
   ]
  },
  {
   "cell_type": "markdown",
   "id": "1e25f767-29a9-48a4-9c64-d5dd65f4a355",
   "metadata": {},
   "source": [
    "## Task 1: Simulation of DLA for a given value of stickiness."
   ]
  },
  {
   "cell_type": "code",
   "execution_count": 4,
   "id": "1a49c8ff-0ed5-42cf-b965-79e645558132",
   "metadata": {},
   "outputs": [
    {
     "name": "stderr",
     "output_type": "stream",
     "text": [
      "100%|██████████| 100/100 [00:02<00:00, 44.93it/s]\n"
     ]
    }
   ],
   "source": [
    "new_dla = DLA2d(matrix_size=50, stickiness=1, points_to_generate=100)\n",
    "new_matrix = new_dla.initialize_matrix()\n",
    "mod_matrix = new_dla.generate_dla(matrix=copy.deepcopy(new_matrix))"
   ]
  },
  {
   "cell_type": "code",
   "execution_count": 5,
   "id": "e850e463-ba2f-436a-bd88-33079a446e23",
   "metadata": {},
   "outputs": [
    {
     "data": {
      "text/plain": [
       "<matplotlib.image.AxesImage at 0x11c04e668>"
      ]
     },
     "execution_count": 5,
     "metadata": {},
     "output_type": "execute_result"
    },
    {
     "data": {
      "image/png": "[encoded data removed]",
      "text/plain": [
       "<Figure size 576x576 with 1 Axes>"
      ]
     },
     "metadata": {
      "needs_background": "light"
     },
     "output_type": "display_data"
    }
   ],
   "source": [
    "plt.figure(figsize=(8,8))\n",
    "plt.imshow(mod_matrix, cmap = 'gray')"
   ]
  },
  {
   "cell_type": "code",
   "execution_count": 9,
   "id": "96e526b6-162d-489d-994d-ab9d4f181b40",
   "metadata": {},
   "outputs": [
    {
     "data": {
      "text/plain": [
       "1"
      ]
     },
     "execution_count": 9,
     "metadata": {},
     "output_type": "execute_result"
    },
    {
     "data": {
      "image/png": "[encoded data removed]",
      "text/plain": [
       "<Figure size 2160x2160 with 1 Axes>"
      ]
     },
     "metadata": {
      "needs_background": "light"
     },
     "output_type": "display_data"
    }
   ],
   "source": [
    "new_dla.trace_point(point=10)"
   ]
  },
  {
   "cell_type": "markdown",
   "id": "75bb5a1b-34c3-48e9-a415-d3d04adf7808",
   "metadata": {},
   "source": [
    "## Task 2: An algorithm to estimate the \"stickiness\" parameter"
   ]
  },
  {
   "cell_type": "code",
   "execution_count": 10,
   "id": "bd014632-4a16-4e34-ac90-00699361f01c",
   "metadata": {},
   "outputs": [],
   "source": [
    "import os\n",
    "import re\n",
    "from PIL import Image\n",
    "from typing import Union"
   ]
  },
  {
   "cell_type": "markdown",
   "id": "e79bd533-2fb8-4f71-a08e-0bfe3373cf58",
   "metadata": {},
   "source": [
    "### Create a helper module to generate dataset for estimating stickiness\n",
    "\n",
    "**pseudocode**\n",
    "\n",
    "```\n",
    "InferImage{\n",
    "    read the image/matrix n x n\n",
    "    take a filter m x m at center #As this is a point aggregator\n",
    "    Slice the matrix of shape m x m\n",
    "    calculate\n",
    "        surface area of m x m\n",
    "        crowd density of m x m\n",
    "        total point used on matrix n x n\n",
    "```\n",
    "- use `DLA2d` to create an image and the user `InferImage` to get the remaining datapoint\n",
    "- generate the dataset"
   ]
  },
  {
   "cell_type": "markdown",
   "id": "42cf1260-5c56-4ce0-9386-fcaf69292ed4",
   "metadata": {},
   "source": [
    "**Write-up**\n",
    "- Reading of the output image/matrix of DLA simulation is done and a `InferImage.filter_size` is created of size `m X m`. This `m` is calculated of 60% of length of DLA simulated matrix.\n",
    "- Slice the `InferImage.image` of m X m from center. Use this sliced image to calculate the density and surface area of the spread of the points attached in that region.\n",
    "- generate the dataset and then use a regression model to calculate `stickiness`"
   ]
  },
  {
   "cell_type": "code",
   "execution_count": 11,
   "id": "0ae5a2f4-83c9-45f4-8c5f-9cdcfa60db4c",
   "metadata": {},
   "outputs": [],
   "source": [
    "class InferImage:\n",
    "    def __init__(self, image:Union[np.ndarray, str]):\n",
    "        if isinstance(image, str):\n",
    "            img = Image.open(image)\n",
    "            img = img.convert(\"L\")\n",
    "            self.image = np.array(img)\n",
    "        else:\n",
    "            self.image = copy.deepcopy(image)\n",
    "            self.filter_size = int(self.image.shape[0] * 0.6)\n",
    "        \n",
    "    def sliced_matrix(self):\n",
    "        if self.filter_size <= self.image.shape[0]:\n",
    "            middle_point = self.image.shape[0]//2\n",
    "            half_filter_size = self.filter_size//2\n",
    "            a = middle_point-half_filter_size\n",
    "            b = middle_point+half_filter_size + 1\n",
    "            return self.image[a:b, a:b]\n",
    "        raise ValueError(\"Reduce filter size\")\n",
    "        \n",
    "    def get_surface_area(self, matrix):\n",
    "        return np.count_nonzero(matrix)\n",
    "    \n",
    "    def get_crowd_density(self, matrix):\n",
    "        return self.get_surface_area(matrix)/(matrix.shape[0]**2)"
   ]
  },
  {
   "cell_type": "markdown",
   "id": "9dc8290c-f462-4049-b983-e2eb788e8415",
   "metadata": {},
   "source": [
    "The datase contains the following information:\n",
    "\n",
    "**Given an image and filter size, all can be calculated.**\n",
    "\n",
    "| Image | filter size | surface area | Crowd density of points | Total points used | Stickiness |\n",
    "|-------|-------------|--------------|-------------------------|-------------------|------------|\n",
    "\n",
    "- Image: Point aggregator image generated from the above algorithm\n",
    "- filter size: filter matrix to crop image around center\n",
    "- surface area: surface area of pixel in the filter area\n",
    "- crowd density: crowd density of the points in the filter area\n",
    "- Total points used: Total points used for the generation of image\n",
    "- Stickiness: probablity with which a point is getting attached to another point"
   ]
  },
  {
   "cell_type": "code",
   "execution_count": 12,
   "id": "e21e91e0-cf67-461c-89ea-cf97d8bb1396",
   "metadata": {},
   "outputs": [],
   "source": [
    "# save the dataset as a pandas dataframe\n",
    "# define the dataset headers\n",
    "if not os.path.exists('dataset.pkl'):\n",
    "    print(\"File doesn't exists. Creating a new file.\")\n",
    "    dataset = pd.DataFrame(columns=[\n",
    "        'Image', 'filter size', 'surface area',\n",
    "        'Crowd density of points', 'Total points used', 'Stickiness'])\n",
    "    dataset.to_pickle(\"dataset.pkl\")\n",
    "else:\n",
    "    dataset = pd.read_pickle(\"dataset.pkl\")"
   ]
  },
  {
   "cell_type": "code",
   "execution_count": 13,
   "id": "66e3824d-ff59-48d6-9f8f-333ad2df3687",
   "metadata": {},
   "outputs": [],
   "source": [
    "# save the generated images at directory image_save_path\n",
    "image_save_path = './Image/'\n",
    "if not os.path.exists(image_save_path):\n",
    "    print(\"Directory not present. Creating a new one.\")\n",
    "    os.mkdir(image_save_path)"
   ]
  },
  {
   "cell_type": "code",
   "execution_count": 14,
   "id": "178a03a9-7c91-474f-b5b2-9138d03223e9",
   "metadata": {},
   "outputs": [
    {
     "name": "stdout",
     "output_type": "stream",
     "text": [
      "84 images have aleady been generated.\n",
      "New images are to be generated with prefix starting from 84 to 1084\n"
     ]
    }
   ],
   "source": [
    "# Create 1000 runs each time and the corresponding generated images are kept inside .Image/ dir\n",
    "initial_runs = 0\n",
    "if not dataset.empty:\n",
    "    initial_runs = max(map(int, dataset['Image'].str.extract(pat=r'(\\d+)', expand=False))) + 1\n",
    "    print(\"{} images have aleady been generated.\".format(initial_runs))\n",
    "runs = 1000 + initial_runs\n",
    "print(\"New images are to be generated with prefix starting from {} to {}\".format(initial_runs, runs))"
   ]
  },
  {
   "cell_type": "code",
   "execution_count": null,
   "id": "2783948a-fe97-49b8-8470-ae831d3aebef",
   "metadata": {},
   "outputs": [],
   "source": [
    "# Run the loop to generate the data and change the matrix size after frequency of 100\n",
    "# change the matrix size after 100th run\n",
    "matrix_size = 40\n",
    "for run in range(initial_runs, runs):\n",
    "    k = np.random.uniform(0.01, 1)\n",
    "    dla = DLA2d(\n",
    "        matrix_size=matrix_size,\n",
    "        stickiness = k,\n",
    "        points_to_generate = np.random.randint(matrix_size, 100))\n",
    "    new_matrix = dla.initialize_matrix()\n",
    "    mod_matrix = dla.generate_dla(matrix=new_matrix)\n",
    "    file_name = image_save_path + \"run_{}.png\".format(run)\n",
    "    plt.imsave(file_name, mod_matrix)\n",
    "    \n",
    "    infer = InferImage(image=mod_matrix)\n",
    "    total_point = infer.get_surface_area(mod_matrix)\n",
    "    slc_matrix = infer.sliced_matrix()\n",
    "    surface_area = infer.get_surface_area(slc_matrix)\n",
    "    crowd_density = infer.get_crowd_density(slc_matrix)\n",
    "    \n",
    "    dataset = dataset.append(\n",
    "        {'Image': file_name,\n",
    "         'filter size': infer.filter_size,\n",
    "         'surface area': surface_area,\n",
    "         'Crowd density of points': crowd_density,\n",
    "         'Total points used': total_point,\n",
    "         'Stickiness': dla.stickiness\n",
    "        }, ignore_index=True\n",
    "    )\n",
    "    dataset.to_pickle(\"dataset.pkl\")\n",
    "    if run % 100 == 0:\n",
    "        print(\"Run: {} completed.\".format(run))\n",
    "        matrix_size = matrix_size + 10\n",
    "        print(\"new matrix({0}X{0})\".format(matrix_size))\n",
    "    del dla, infer, new_matrix, mod_matrix, slc_matrix"
   ]
  },
  {
   "cell_type": "markdown",
   "id": "37988022-1b46-4b91-9e98-8c61af823277",
   "metadata": {},
   "source": [
    "### Subtask: A basic regression model to check the hypothesis\n",
    "**Use a regression model to predict the stickiness in an image.**\n",
    "- Provided an image, surface area, Crowd density of points, Total points used can be calculated for a given filter size. Using them a value can be predicted as a stickiness parameter"
   ]
  },
  {
   "cell_type": "code",
   "execution_count": 15,
   "id": "bf37f9fd-24b8-427e-a8ea-d5b9ec2fd4ed",
   "metadata": {},
   "outputs": [],
   "source": [
    "dataset = pd.read_pickle(\"dataset.pkl\")\n",
    "dataset.set_index(\"Image\", inplace=True)"
   ]
  },
  {
   "cell_type": "code",
   "execution_count": 16,
   "id": "b4ca7a22-7df1-44eb-bb4d-94cba9bce960",
   "metadata": {},
   "outputs": [
    {
     "name": "stdout",
     "output_type": "stream",
     "text": [
      "84\n"
     ]
    }
   ],
   "source": [
    "print(len(dataset))"
   ]
  },
  {
   "cell_type": "code",
   "execution_count": 17,
   "id": "f594281e-664b-46b0-b25b-c1e018aadca2",
   "metadata": {},
   "outputs": [
    {
     "data": {
      "text/html": [
       "<div>\n",
       "<style scoped>\n",
       "    .dataframe tbody tr th:only-of-type {\n",
       "        vertical-align: middle;\n",
       "    }\n",
       "\n",
       "    .dataframe tbody tr th {\n",
       "        vertical-align: top;\n",
       "    }\n",
       "\n",
       "    .dataframe thead th {\n",
       "        text-align: right;\n",
       "    }\n",
       "</style>\n",
       "<table border=\"1\" class=\"dataframe\">\n",
       "  <thead>\n",
       "    <tr style=\"text-align: right;\">\n",
       "      <th></th>\n",
       "      <th>filter size</th>\n",
       "      <th>surface area</th>\n",
       "      <th>Crowd density of points</th>\n",
       "      <th>Total points used</th>\n",
       "      <th>Stickiness</th>\n",
       "    </tr>\n",
       "    <tr>\n",
       "      <th>Image</th>\n",
       "      <th></th>\n",
       "      <th></th>\n",
       "      <th></th>\n",
       "      <th></th>\n",
       "      <th></th>\n",
       "    </tr>\n",
       "  </thead>\n",
       "  <tbody>\n",
       "    <tr>\n",
       "      <th>./Image/run_0.png</th>\n",
       "      <td>24</td>\n",
       "      <td>86</td>\n",
       "      <td>0.13760</td>\n",
       "      <td>90</td>\n",
       "      <td>0.525142</td>\n",
       "    </tr>\n",
       "    <tr>\n",
       "      <th>./Image/run_1.png</th>\n",
       "      <td>30</td>\n",
       "      <td>68</td>\n",
       "      <td>0.07076</td>\n",
       "      <td>68</td>\n",
       "      <td>0.638705</td>\n",
       "    </tr>\n",
       "  </tbody>\n",
       "</table>\n",
       "</div>"
      ],
      "text/plain": [
       "                  filter size surface area  Crowd density of points  \\\n",
       "Image                                                                 \n",
       "./Image/run_0.png          24           86                  0.13760   \n",
       "./Image/run_1.png          30           68                  0.07076   \n",
       "\n",
       "                  Total points used  Stickiness  \n",
       "Image                                            \n",
       "./Image/run_0.png                90    0.525142  \n",
       "./Image/run_1.png                68    0.638705  "
      ]
     },
     "execution_count": 17,
     "metadata": {},
     "output_type": "execute_result"
    }
   ],
   "source": [
    "dataset.head(2)"
   ]
  },
  {
   "cell_type": "code",
   "execution_count": 18,
   "id": "508d5edf-c3d9-44d9-b278-50bfe27d6481",
   "metadata": {},
   "outputs": [],
   "source": [
    "from sklearn.preprocessing import MinMaxScaler\n",
    "from sklearn.model_selection import train_test_split\n",
    "from sklearn import svm"
   ]
  },
  {
   "cell_type": "code",
   "execution_count": 19,
   "id": "9f815cbd-19c2-4814-b59f-20931ce2eb48",
   "metadata": {},
   "outputs": [],
   "source": [
    "scaler = MinMaxScaler()\n",
    "data = scaler.fit_transform(dataset)"
   ]
  },
  {
   "cell_type": "code",
   "execution_count": 20,
   "id": "c1292cd3-4f37-48c6-86e2-1a6418e23478",
   "metadata": {},
   "outputs": [],
   "source": [
    "x_train, x_test, y_train, y_test = train_test_split(data[:,:-1], data[:,-1], test_size=0.3)"
   ]
  },
  {
   "cell_type": "code",
   "execution_count": 21,
   "id": "0d66778c-9906-40ca-b2a6-569c6ee68438",
   "metadata": {},
   "outputs": [],
   "source": [
    "reg = svm.SVR(kernel='poly', verbose=True)"
   ]
  },
  {
   "cell_type": "code",
   "execution_count": 22,
   "id": "edb0df15-df63-4101-8521-cbf91cb869b5",
   "metadata": {},
   "outputs": [
    {
     "name": "stdout",
     "output_type": "stream",
     "text": [
      "[LibSVM]"
     ]
    },
    {
     "data": {
      "text/plain": [
       "SVR(kernel='poly', verbose=True)"
      ]
     },
     "execution_count": 22,
     "metadata": {},
     "output_type": "execute_result"
    }
   ],
   "source": [
    "reg.fit(x_train, y_train)"
   ]
  },
  {
   "cell_type": "code",
   "execution_count": 23,
   "id": "c0df1751-4331-43e7-94e5-3163ee2acd06",
   "metadata": {},
   "outputs": [
    {
     "data": {
      "text/plain": [
       "-0.49935857440609266"
      ]
     },
     "execution_count": 23,
     "metadata": {},
     "output_type": "execute_result"
    }
   ],
   "source": [
    "# r2 coefficient\n",
    "reg.score(x_test, y_test)"
   ]
  },
  {
   "cell_type": "code",
   "execution_count": 24,
   "id": "e18c46cd-6f0a-471a-98ed-2a0959aee235",
   "metadata": {},
   "outputs": [
    {
     "data": {
      "text/html": [
       "<div>\n",
       "<style scoped>\n",
       "    .dataframe tbody tr th:only-of-type {\n",
       "        vertical-align: middle;\n",
       "    }\n",
       "\n",
       "    .dataframe tbody tr th {\n",
       "        vertical-align: top;\n",
       "    }\n",
       "\n",
       "    .dataframe thead th {\n",
       "        text-align: right;\n",
       "    }\n",
       "</style>\n",
       "<table border=\"1\" class=\"dataframe\">\n",
       "  <thead>\n",
       "    <tr style=\"text-align: right;\">\n",
       "      <th></th>\n",
       "      <th>predicted</th>\n",
       "      <th>actual</th>\n",
       "      <th>Error_2</th>\n",
       "    </tr>\n",
       "  </thead>\n",
       "  <tbody>\n",
       "    <tr>\n",
       "      <th>0</th>\n",
       "      <td>0.509393</td>\n",
       "      <td>0.907612</td>\n",
       "      <td>0.158579</td>\n",
       "    </tr>\n",
       "    <tr>\n",
       "      <th>1</th>\n",
       "      <td>0.763672</td>\n",
       "      <td>0.313040</td>\n",
       "      <td>0.203070</td>\n",
       "    </tr>\n",
       "    <tr>\n",
       "      <th>2</th>\n",
       "      <td>0.499537</td>\n",
       "      <td>0.552841</td>\n",
       "      <td>0.002841</td>\n",
       "    </tr>\n",
       "    <tr>\n",
       "      <th>3</th>\n",
       "      <td>0.513503</td>\n",
       "      <td>0.675462</td>\n",
       "      <td>0.026231</td>\n",
       "    </tr>\n",
       "    <tr>\n",
       "      <th>4</th>\n",
       "      <td>0.520805</td>\n",
       "      <td>0.095104</td>\n",
       "      <td>0.181221</td>\n",
       "    </tr>\n",
       "    <tr>\n",
       "      <th>5</th>\n",
       "      <td>0.515735</td>\n",
       "      <td>0.878389</td>\n",
       "      <td>0.131518</td>\n",
       "    </tr>\n",
       "    <tr>\n",
       "      <th>6</th>\n",
       "      <td>0.510444</td>\n",
       "      <td>0.413706</td>\n",
       "      <td>0.009358</td>\n",
       "    </tr>\n",
       "    <tr>\n",
       "      <th>7</th>\n",
       "      <td>0.777715</td>\n",
       "      <td>0.374872</td>\n",
       "      <td>0.162282</td>\n",
       "    </tr>\n",
       "    <tr>\n",
       "      <th>8</th>\n",
       "      <td>0.589474</td>\n",
       "      <td>0.343080</td>\n",
       "      <td>0.060710</td>\n",
       "    </tr>\n",
       "    <tr>\n",
       "      <th>9</th>\n",
       "      <td>0.517202</td>\n",
       "      <td>0.534050</td>\n",
       "      <td>0.000284</td>\n",
       "    </tr>\n",
       "    <tr>\n",
       "      <th>10</th>\n",
       "      <td>0.540802</td>\n",
       "      <td>0.348366</td>\n",
       "      <td>0.037032</td>\n",
       "    </tr>\n",
       "    <tr>\n",
       "      <th>11</th>\n",
       "      <td>0.513503</td>\n",
       "      <td>0.496431</td>\n",
       "      <td>0.000291</td>\n",
       "    </tr>\n",
       "    <tr>\n",
       "      <th>12</th>\n",
       "      <td>0.257227</td>\n",
       "      <td>0.282209</td>\n",
       "      <td>0.000624</td>\n",
       "    </tr>\n",
       "    <tr>\n",
       "      <th>13</th>\n",
       "      <td>0.527605</td>\n",
       "      <td>0.416040</td>\n",
       "      <td>0.012447</td>\n",
       "    </tr>\n",
       "    <tr>\n",
       "      <th>14</th>\n",
       "      <td>0.531531</td>\n",
       "      <td>0.222266</td>\n",
       "      <td>0.095645</td>\n",
       "    </tr>\n",
       "    <tr>\n",
       "      <th>15</th>\n",
       "      <td>0.510545</td>\n",
       "      <td>0.400320</td>\n",
       "      <td>0.012149</td>\n",
       "    </tr>\n",
       "    <tr>\n",
       "      <th>16</th>\n",
       "      <td>0.060577</td>\n",
       "      <td>0.587609</td>\n",
       "      <td>0.277763</td>\n",
       "    </tr>\n",
       "    <tr>\n",
       "      <th>17</th>\n",
       "      <td>0.498833</td>\n",
       "      <td>0.810840</td>\n",
       "      <td>0.097349</td>\n",
       "    </tr>\n",
       "    <tr>\n",
       "      <th>18</th>\n",
       "      <td>0.513395</td>\n",
       "      <td>0.060081</td>\n",
       "      <td>0.205493</td>\n",
       "    </tr>\n",
       "    <tr>\n",
       "      <th>19</th>\n",
       "      <td>0.517828</td>\n",
       "      <td>0.509361</td>\n",
       "      <td>0.000072</td>\n",
       "    </tr>\n",
       "    <tr>\n",
       "      <th>20</th>\n",
       "      <td>0.569468</td>\n",
       "      <td>0.507810</td>\n",
       "      <td>0.003802</td>\n",
       "    </tr>\n",
       "    <tr>\n",
       "      <th>21</th>\n",
       "      <td>0.513169</td>\n",
       "      <td>0.633508</td>\n",
       "      <td>0.014482</td>\n",
       "    </tr>\n",
       "    <tr>\n",
       "      <th>22</th>\n",
       "      <td>0.527605</td>\n",
       "      <td>0.259303</td>\n",
       "      <td>0.071986</td>\n",
       "    </tr>\n",
       "    <tr>\n",
       "      <th>23</th>\n",
       "      <td>0.756024</td>\n",
       "      <td>0.689160</td>\n",
       "      <td>0.004471</td>\n",
       "    </tr>\n",
       "    <tr>\n",
       "      <th>24</th>\n",
       "      <td>0.515346</td>\n",
       "      <td>0.520997</td>\n",
       "      <td>0.000032</td>\n",
       "    </tr>\n",
       "    <tr>\n",
       "      <th>25</th>\n",
       "      <td>0.519053</td>\n",
       "      <td>0.012898</td>\n",
       "      <td>0.256193</td>\n",
       "    </tr>\n",
       "  </tbody>\n",
       "</table>\n",
       "</div>"
      ],
      "text/plain": [
       "    predicted    actual   Error_2\n",
       "0    0.509393  0.907612  0.158579\n",
       "1    0.763672  0.313040  0.203070\n",
       "2    0.499537  0.552841  0.002841\n",
       "3    0.513503  0.675462  0.026231\n",
       "4    0.520805  0.095104  0.181221\n",
       "5    0.515735  0.878389  0.131518\n",
       "6    0.510444  0.413706  0.009358\n",
       "7    0.777715  0.374872  0.162282\n",
       "8    0.589474  0.343080  0.060710\n",
       "9    0.517202  0.534050  0.000284\n",
       "10   0.540802  0.348366  0.037032\n",
       "11   0.513503  0.496431  0.000291\n",
       "12   0.257227  0.282209  0.000624\n",
       "13   0.527605  0.416040  0.012447\n",
       "14   0.531531  0.222266  0.095645\n",
       "15   0.510545  0.400320  0.012149\n",
       "16   0.060577  0.587609  0.277763\n",
       "17   0.498833  0.810840  0.097349\n",
       "18   0.513395  0.060081  0.205493\n",
       "19   0.517828  0.509361  0.000072\n",
       "20   0.569468  0.507810  0.003802\n",
       "21   0.513169  0.633508  0.014482\n",
       "22   0.527605  0.259303  0.071986\n",
       "23   0.756024  0.689160  0.004471\n",
       "24   0.515346  0.520997  0.000032\n",
       "25   0.519053  0.012898  0.256193"
      ]
     },
     "execution_count": 24,
     "metadata": {},
     "output_type": "execute_result"
    }
   ],
   "source": [
    "pd.DataFrame({'predicted': reg.predict(x_test), 'actual': y_test, 'Error_2': (y_test - reg.predict(x_test))**2})"
   ]
  },
  {
   "cell_type": "markdown",
   "id": "cec492b5-2050-4f3d-bb5c-62861e6c9823",
   "metadata": {},
   "source": [
    "**Comments**\n",
    "- Generation of 1000 records was not completed, due to algorithm getting stuck during random walk at one of the edge condition.\n",
    "- Due to less records, model created above is very unreliable. This is inferred with the r2 coefficient value."
   ]
  },
  {
   "cell_type": "code",
   "execution_count": null,
   "id": "cd9f4387-b28b-4548-b838-255ba60f289e",
   "metadata": {},
   "outputs": [],
   "source": []
  }
 ],
 "metadata": {
  "kernelspec": {
   "display_name": "Pipenv (extras)",
   "language": "python",
   "name": "extras-dwn1vi1x"
  },
  "language_info": {
   "codemirror_mode": {
    "name": "ipython",
    "version": 3
   },
   "file_extension": ".py",
   "mimetype": "text/x-python",
   "name": "python",
   "nbconvert_exporter": "python",
   "pygments_lexer": "ipython3",
   "version": "3.7.3"
  }
 },
 "nbformat": 4,
 "nbformat_minor": 5
}
